{
  "nbformat": 4,
  "nbformat_minor": 0,
  "metadata": {
    "colab": {
      "name": "Untitled53.ipynb의 사본",
      "private_outputs": true,
      "provenance": [],
      "authorship_tag": "ABX9TyMsE0ELJ8zELisHfvqhNQCh",
      "include_colab_link": true
    },
    "kernelspec": {
      "name": "python3",
      "display_name": "Python 3"
    },
    "language_info": {
      "name": "python"
    }
  },
  "cells": [
    {
      "cell_type": "markdown",
      "metadata": {
        "id": "view-in-github",
        "colab_type": "text"
      },
      "source": [
        "<a href=\"https://colab.research.google.com/github/limseo12/Project_CP1/blob/main/Untitled53_ipynb%EC%9D%98_%EC%82%AC%EB%B3%B8.ipynb\" target=\"_parent\"><img src=\"https://colab.research.google.com/assets/colab-badge.svg\" alt=\"Open In Colab\"/></a>"
      ]
    },
    {
      "cell_type": "code",
      "execution_count": null,
      "metadata": {
        "id": "bKKY1BEsnRfy"
      },
      "outputs": [],
      "source": [
        "from google.colab import files\n",
        "uploaded = files.upload()"
      ]
    },
    {
      "cell_type": "code",
      "source": [
        "import pandas as pd\n",
        "import io\n",
        "df = pd.read_csv(io.StringIO(uploaded['Game_data_EDA.csv'].decode('utf-8')))"
      ],
      "metadata": {
        "id": "ChvJ9rqRde7h"
      },
      "execution_count": null,
      "outputs": []
    },
    {
      "cell_type": "code",
      "source": [
        "df.head(2000)"
      ],
      "metadata": {
        "id": "9K4K0T4GeGZU"
      },
      "execution_count": null,
      "outputs": []
    },
    {
      "cell_type": "code",
      "source": [
        "print(df.shape)"
      ],
      "metadata": {
        "id": "mEXS84GWjntz"
      },
      "execution_count": null,
      "outputs": []
    },
    {
      "cell_type": "markdown",
      "source": [
        "### **EDA**"
      ],
      "metadata": {
        "id": "1KDIWzaX0ySo"
      }
    },
    {
      "cell_type": "code",
      "source": [
        "## Year 기준으로 재 정렬하는 코드 ascending = True 오름차순 , False 내림차순\n",
        "df = df_sorted_by_values = df.sort_values(by='Year', ascending=False)"
      ],
      "metadata": {
        "id": "n-WWgoxckfZ9"
      },
      "execution_count": null,
      "outputs": []
    },
    {
      "cell_type": "code",
      "source": [
        "#정렬 결과 출력\n",
        "df.head(20000)"
      ],
      "metadata": {
        "id": "rVmTpIA1kwtj"
      },
      "execution_count": null,
      "outputs": []
    },
    {
      "cell_type": "code",
      "source": [
        "df.isnull().sum()"
      ],
      "metadata": {
        "id": "pcju1XqOlUoF"
      },
      "execution_count": null,
      "outputs": []
    },
    {
      "cell_type": "code",
      "source": [
        "df.dtypes"
      ],
      "metadata": {
        "id": "WLyq6blTBLMY"
      },
      "execution_count": null,
      "outputs": []
    },
    {
      "cell_type": "code",
      "source": [
        "##최근데이터들이 결측치가 많아 따로 확인 2019~2021년도\n",
        "#df.loc[(df[\"Year\"] == 2016.0)]\n",
        "df.loc[(df[\"Year\"] == 2017.0)]"
      ],
      "metadata": {
        "id": "NdAlXRYgvFMA"
      },
      "execution_count": null,
      "outputs": []
    },
    {
      "cell_type": "code",
      "source": [
        "#Unnamed 부분은 대부분 결측치이며\n",
        "# Critic_Score , Critic_Count, User_Count 부분도 결측치가 많다"
      ],
      "metadata": {
        "id": "t5lJVeV9tGEv"
      },
      "execution_count": null,
      "outputs": []
    },
    {
      "cell_type": "code",
      "source": [
        "##unnamed 등 3분의1이 결측치인것들\n",
        "##User_Score 같은 부분은 결측치가 많아도 중요한 데이터이기에 제거 일단 보류\n",
        "##의미없는 데이터먼저 제거\n",
        "##null 값을 dropna 하려 했으나 데이터를 조금더 분류한뒤에 제거하기로함(데이터가 한번 다 날라갔다)\n",
        "df.drop(['Unnamed: 0'], axis=1, inplace=True)\n",
        "df.drop(['Unnamed: 17'], axis=1, inplace=True)\n",
        "df.drop(['Null'], axis=1, inplace=True)\n",
        "df.drop(['Rating'], axis=1, inplace=True)\n",
        "df.drop(['Rank'], axis=1, inplace=True)"
      ],
      "metadata": {
        "id": "S7PV68JPtcg-"
      },
      "execution_count": null,
      "outputs": []
    },
    {
      "cell_type": "code",
      "source": [
        "df.head()"
      ],
      "metadata": {
        "id": "c_OFlqgINlZ9"
      },
      "execution_count": null,
      "outputs": []
    },
    {
      "cell_type": "markdown",
      "source": [
        "매출부분"
      ],
      "metadata": {
        "id": "UxJyL5dMEi8f"
      }
    },
    {
      "cell_type": "code",
      "source": [
        "## 기본적인 부분만 가져오기 선호도, 평가 제외\n",
        "df_sales = df[['Name',\t'Platform',\t'Year',\t'Genre',\t'NA_Sales','EU_Sales','JP_Sales','Other_Sales','Global_Sales']]"
      ],
      "metadata": {
        "id": "G6Udq577Dbk-"
      },
      "execution_count": null,
      "outputs": []
    },
    {
      "cell_type": "code",
      "source": [
        "df_sales.shape"
      ],
      "metadata": {
        "id": "KzFlIZLSEgFp"
      },
      "execution_count": null,
      "outputs": []
    },
    {
      "cell_type": "code",
      "source": [
        "#null 제거하니 34502x9로 5000개 가량 데이터 손실\n",
        "df_sales = df_sales.dropna()"
      ],
      "metadata": {
        "id": "tspbwOQjFYbf"
      },
      "execution_count": null,
      "outputs": []
    },
    {
      "cell_type": "code",
      "source": [
        "#2020년도 데이터는 1개 밖에 없으므로 제거\n",
        "df_sales = df_sales.drop([15554], axis=0)\n",
        "df_sales.shape"
      ],
      "metadata": {
        "id": "GGPK7fCCa6Zt"
      },
      "execution_count": null,
      "outputs": []
    },
    {
      "cell_type": "code",
      "source": [
        "df_sales.head()"
      ],
      "metadata": {
        "id": "HZZw86kbdkZ6"
      },
      "execution_count": null,
      "outputs": []
    },
    {
      "cell_type": "markdown",
      "source": [
        "# 장르별 분석"
      ],
      "metadata": {
        "id": "ZExfwLQwjsrw"
      }
    },
    {
      "cell_type": "code",
      "source": [
        "## 장르와 판매량만 묶기, 장르끼리 데이터 합쳐주고 인덱스 다시부여\n",
        "df_Genre = df_sales[['Genre','NA_Sales','EU_Sales','JP_Sales','Other_Sales']]\n",
        "df_Genre = df_Genre.groupby(['Genre']).sum()\n",
        "df_Genre = df_Genre.reset_index()\n",
        "df_Genre.head()"
      ],
      "metadata": {
        "id": "v3nemzVWj1dT"
      },
      "execution_count": null,
      "outputs": []
    },
    {
      "cell_type": "code",
      "source": [
        "##나눔글씨체\n",
        "!sudo apt-get install -y fonts-nanum\n",
        "!sudo fc-cache -fv\n",
        "!rm ~/.cache/matplotlib -rf\n",
        "\n",
        "import matplotlib.pyplot as plt\n",
        "import seaborn as sns\n",
        "plt.rc('font', family='NanumBarunGothic') "
      ],
      "metadata": {
        "id": "8GiqZ8PhpzKz"
      },
      "execution_count": null,
      "outputs": []
    },
    {
      "cell_type": "code",
      "source": [
        "sns.set(style='darkgrid')\n",
        "plt.figure(figsize=(15, 10))\n",
        "plt.title(\"Genre preference\", fontsize=20)\n",
        "plt.xlabel(\"Genre of game\", fontsize=20)\n",
        "plt.ylabel(\"Total sales volume\", fontsize=20)\n",
        "sns.lineplot(data=df_Genre, markers=True);"
      ],
      "metadata": {
        "id": "AQwTi24EcTxO"
      },
      "execution_count": null,
      "outputs": []
    },
    {
      "cell_type": "code",
      "source": [
        "####더 추가하기 평균과 표준편차.넣기"
      ],
      "metadata": {
        "id": "UBNWpXDhrR05"
      },
      "execution_count": null,
      "outputs": []
    },
    {
      "cell_type": "markdown",
      "source": [
        "## 머신러닝 Part"
      ],
      "metadata": {
        "id": "Yc9MXAtQrWLp"
      }
    },
    {
      "cell_type": "code",
      "source": [
        "# 모델 SVM , Randomforest, DisisionTree "
      ],
      "metadata": {
        "id": "sdTLSRI9rdTH"
      },
      "execution_count": null,
      "outputs": []
    },
    {
      "cell_type": "markdown",
      "source": [
        "Randonforest regressor"
      ],
      "metadata": {
        "id": "9yuouYqM050a"
      }
    },
    {
      "cell_type": "code",
      "source": [
        "from sklearn.model_selection import train_test_split\n",
        "from sklearn.feature_extraction import DictVectorizer\n",
        "from sklearn.ensemble import RandomForestRegressor\n",
        "from sklearn.metrics import r2_score\n",
        "from sklearn.metrics import mean_squared_error\n",
        "\n",
        "# 데이터 학습/테스트 분리\n",
        "#'NA_Sales','EU_Sales','JP_Sales','Other_Sales'제외\n",
        "df1 = df_sales[['Name','Platform','Year','Genre','Global_Sales']]"
      ],
      "metadata": {
        "id": "jArlhV46ry6t"
      },
      "execution_count": null,
      "outputs": []
    },
    {
      "cell_type": "code",
      "source": [
        "# 원핫인코딩\n",
        "df1 = pd.get_dummies(df1, columns=['Name','Platform','Year','Genre'])\n",
        "\n",
        "#Global_Sales 가 아닌값만 x로 지정\n",
        "x = df1.loc[:, df1.columns != 'Global_Sales']\n",
        "y = df1['Global_Sales']"
      ],
      "metadata": {
        "id": "BMRXDyq17WHB"
      },
      "execution_count": null,
      "outputs": []
    },
    {
      "cell_type": "code",
      "source": [
        "## 데이터분리\n",
        "x_train, x_test, y_train, y_test = train_test_split(x, y, test_size=0.3, random_state=0)"
      ],
      "metadata": {
        "id": "So4lvzpZ30JS"
      },
      "execution_count": null,
      "outputs": []
    },
    {
      "cell_type": "code",
      "source": [
        "#랜덤 포레스트 모델 학습\n",
        "forest = RandomForestRegressor(n_estimators=1000, criterion='mse')\n",
        "forest.fit(x_train,y_train)"
      ],
      "metadata": {
        "id": "wAxE-ixo4VDe"
      },
      "execution_count": null,
      "outputs": []
    },
    {
      "cell_type": "code",
      "source": [
        "y_train_pred = forest.predict(x_train)\n",
        "y_test_pred = forest.predict(x_test)"
      ],
      "metadata": {
        "id": "KyPANS4U4YNi"
      },
      "execution_count": null,
      "outputs": []
    },
    {
      "cell_type": "code",
      "source": [
        "#학습 모델 평가\n",
        "print('MSE train: %.3f, test: %.3f' % (\n",
        "        mean_squared_error(y_train, y_test_pred),\n",
        "        mean_squared_error(y_test, y_test_pred)))\n",
        "print('R^2 train: %.3f, test: %.3f' %(\n",
        "      r2_score(y_train, y_train_pred),\n",
        "      r2_score(y_test, y_test_pred)))"
      ],
      "metadata": {
        "id": "bUORbjXz4vQu"
      },
      "execution_count": null,
      "outputs": []
    },
    {
      "cell_type": "markdown",
      "source": [
        "## 데이터2 모바일 부분예정"
      ],
      "metadata": {
        "id": "pyqi_61EswDu"
      }
    },
    {
      "cell_type": "code",
      "source": [
        "from google.colab import files\n",
        "uploaded = files.upload()"
      ],
      "metadata": {
        "id": "W22L0TnDjt8W"
      },
      "execution_count": null,
      "outputs": []
    },
    {
      "cell_type": "code",
      "source": [
        "df2 = pd.read_csv(io.StringIO(uploaded['appstore_games.csv'].decode('utf-8')))"
      ],
      "metadata": {
        "id": "dELv_e2pp5ZY"
      },
      "execution_count": null,
      "outputs": []
    },
    {
      "cell_type": "code",
      "source": [
        "df2.shape"
      ],
      "metadata": {
        "id": "a-dz24q7wyc7"
      },
      "execution_count": null,
      "outputs": []
    },
    {
      "cell_type": "code",
      "source": [
        "df2.head(2000)"
      ],
      "metadata": {
        "id": "QYQaBBzpq1r6"
      },
      "execution_count": null,
      "outputs": []
    },
    {
      "cell_type": "code",
      "source": [
        "df2_sorted_by_values = df2.sort_values(by='Year', ascending=False)"
      ],
      "metadata": {
        "id": "LHm4GC80rlJu"
      },
      "execution_count": null,
      "outputs": []
    },
    {
      "cell_type": "code",
      "source": [
        "df2_sorted_by_values.head(40000)"
      ],
      "metadata": {
        "id": "YpujNL08sGPv"
      },
      "execution_count": null,
      "outputs": []
    },
    {
      "cell_type": "code",
      "source": [
        "df.loc[(df[\"Year\"] == 2017.0)]"
      ],
      "metadata": {
        "id": "zZMV4d6CxshJ"
      },
      "execution_count": null,
      "outputs": []
    }
  ]
}