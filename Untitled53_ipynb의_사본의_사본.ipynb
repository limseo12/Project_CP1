{
  "nbformat": 4,
  "nbformat_minor": 0,
  "metadata": {
    "colab": {
      "name": "Untitled53.ipynb의 사본의 사본",
      "private_outputs": true,
      "provenance": [],
      "authorship_tag": "ABX9TyMfNm9lpj/JwW4nd0k3r5Zm",
      "include_colab_link": true
    },
    "kernelspec": {
      "name": "python3",
      "display_name": "Python 3"
    },
    "language_info": {
      "name": "python"
    }
  },
  "cells": [
    {
      "cell_type": "markdown",
      "metadata": {
        "id": "view-in-github",
        "colab_type": "text"
      },
      "source": [
        "<a href=\"https://colab.research.google.com/github/limseo12/Project_CP1/blob/main/Untitled53_ipynb%EC%9D%98_%EC%82%AC%EB%B3%B8%EC%9D%98_%EC%82%AC%EB%B3%B8.ipynb\" target=\"_parent\"><img src=\"https://colab.research.google.com/assets/colab-badge.svg\" alt=\"Open In Colab\"/></a>"
      ]
    },
    {
      "cell_type": "code",
      "execution_count": null,
      "metadata": {
        "id": "bKKY1BEsnRfy"
      },
      "outputs": [],
      "source": [
        "from google.colab import files\n",
        "uploaded = files.upload()"
      ]
    },
    {
      "cell_type": "code",
      "source": [
        "import pandas as pd\n",
        "import io\n",
        "df = pd.read_csv(io.StringIO(uploaded['Game_data_EDA.csv'].decode('utf-8')))"
      ],
      "metadata": {
        "id": "ChvJ9rqRde7h"
      },
      "execution_count": null,
      "outputs": []
    },
    {
      "cell_type": "code",
      "source": [
        "df.head(2000)"
      ],
      "metadata": {
        "id": "9K4K0T4GeGZU"
      },
      "execution_count": null,
      "outputs": []
    },
    {
      "cell_type": "code",
      "source": [
        "print(df.shape)"
      ],
      "metadata": {
        "id": "mEXS84GWjntz"
      },
      "execution_count": null,
      "outputs": []
    },
    {
      "cell_type": "markdown",
      "source": [
        "### **EDA**"
      ],
      "metadata": {
        "id": "1KDIWzaX0ySo"
      }
    },
    {
      "cell_type": "code",
      "source": [
        "## Year 기준으로 재 정렬하는 코드 ascending = True 오름차순 , False 내림차순\n",
        "df = df_sorted_by_values = df.sort_values(by='Year', ascending=False)"
      ],
      "metadata": {
        "id": "n-WWgoxckfZ9"
      },
      "execution_count": null,
      "outputs": []
    },
    {
      "cell_type": "code",
      "source": [
        "#정렬 결과 출력\n",
        "df.head(20000)"
      ],
      "metadata": {
        "id": "rVmTpIA1kwtj"
      },
      "execution_count": null,
      "outputs": []
    },
    {
      "cell_type": "code",
      "source": [
        "df.isnull().sum()"
      ],
      "metadata": {
        "id": "pcju1XqOlUoF"
      },
      "execution_count": null,
      "outputs": []
    },
    {
      "cell_type": "code",
      "source": [
        "df.dtypes"
      ],
      "metadata": {
        "id": "WLyq6blTBLMY"
      },
      "execution_count": null,
      "outputs": []
    },
    {
      "cell_type": "code",
      "source": [
        "##최근데이터들이 결측치가 많아 따로 확인 2019~2021년도\n",
        "#df.loc[(df[\"Year\"] == 2016.0)]\n",
        "df.loc[(df[\"Year\"] == 2017.0)]"
      ],
      "metadata": {
        "id": "NdAlXRYgvFMA"
      },
      "execution_count": null,
      "outputs": []
    },
    {
      "cell_type": "code",
      "source": [
        "#Unnamed 부분은 대부분 결측치이며\n",
        "# Critic_Score , Critic_Count, User_Count 부분도 결측치가 많다"
      ],
      "metadata": {
        "id": "t5lJVeV9tGEv"
      },
      "execution_count": null,
      "outputs": []
    },
    {
      "cell_type": "code",
      "source": [
        "##unnamed 등 3분의1이 결측치인것들\n",
        "##User_Score 같은 부분은 결측치가 많아도 중요한 데이터이기에 제거 일단 보류\n",
        "##의미없는 데이터먼저 제거\n",
        "##null 값을 dropna 하려 했으나 데이터를 조금더 분류한뒤에 제거하기로함(데이터가 한번 다 날라갔다)\n",
        "df.drop(['Unnamed: 0'], axis=1, inplace=True)\n",
        "df.drop(['Unnamed: 17'], axis=1, inplace=True)\n",
        "df.drop(['Null'], axis=1, inplace=True)\n",
        "df.drop(['Rating'], axis=1, inplace=True)\n",
        "df.drop(['Rank'], axis=1, inplace=True)"
      ],
      "metadata": {
        "id": "S7PV68JPtcg-"
      },
      "execution_count": null,
      "outputs": []
    },
    {
      "cell_type": "code",
      "source": [
        "df.head()"
      ],
      "metadata": {
        "id": "c_OFlqgINlZ9"
      },
      "execution_count": null,
      "outputs": []
    },
    {
      "cell_type": "markdown",
      "source": [
        "매출부분"
      ],
      "metadata": {
        "id": "UxJyL5dMEi8f"
      }
    },
    {
      "cell_type": "code",
      "source": [
        "## 기본적인 부분만 가져오기 선호도, 평가 제외\n",
        "df_sales = df[['Name',\t'Platform',\t'Year',\t'Genre',\t'NA_Sales','EU_Sales','JP_Sales','Other_Sales','Global_Sales']]"
      ],
      "metadata": {
        "id": "G6Udq577Dbk-"
      },
      "execution_count": null,
      "outputs": []
    },
    {
      "cell_type": "code",
      "source": [
        "df_sales.shape"
      ],
      "metadata": {
        "id": "KzFlIZLSEgFp"
      },
      "execution_count": null,
      "outputs": []
    },
    {
      "cell_type": "code",
      "source": [
        "#null 제거하니 34502x9로 5000개 가량 데이터 손실\n",
        "df_sales = df_sales.dropna()"
      ],
      "metadata": {
        "id": "tspbwOQjFYbf"
      },
      "execution_count": null,
      "outputs": []
    },
    {
      "cell_type": "code",
      "source": [
        "#2020년도 데이터는 1개 밖에 없으므로 제거\n",
        "df_sales = df_sales.drop([15554], axis=0)\n",
        "df_sales.shape"
      ],
      "metadata": {
        "id": "GGPK7fCCa6Zt"
      },
      "execution_count": null,
      "outputs": []
    },
    {
      "cell_type": "code",
      "source": [
        "df_sales.head()"
      ],
      "metadata": {
        "id": "HZZw86kbdkZ6"
      },
      "execution_count": null,
      "outputs": []
    },
    {
      "cell_type": "markdown",
      "source": [
        "# 판매량에 따른 분석"
      ],
      "metadata": {
        "id": "ZExfwLQwjsrw"
      }
    },
    {
      "cell_type": "code",
      "source": [
        "## 장르와 판매량만 묶기, 장르끼리 데이터 합쳐주고 인덱스 다시부여\n",
        "df_genre_year = df_sales[['Genre','NA_Sales','EU_Sales','JP_Sales','Other_Sales','Global_Sales']]\n",
        "df_genre_year = df.groupby(['Year', 'Genre'])['Global_Sales'].sum().unstack()\n",
        "df_genre_year = df_genre_year.reset_index()\n",
        "df_genre_year.head()"
      ],
      "metadata": {
        "id": "v3nemzVWj1dT"
      },
      "execution_count": null,
      "outputs": []
    },
    {
      "cell_type": "code",
      "source": [
        "import matplotlib.pyplot as plt\n",
        "import seaborn as sns\n",
        "plt.rc('font', family='NanumBarunGothic') "
      ],
      "metadata": {
        "id": "8GiqZ8PhpzKz"
      },
      "execution_count": null,
      "outputs": []
    },
    {
      "cell_type": "code",
      "source": [
        "##연도에 따른 장르별 판매량\n",
        "sns.set_palette('rainbow')\n",
        "plt.figure(figsize=(15, 8))\n",
        "plt.title('Year sales data with Genre', fontsize=20)\n",
        "genre = df_genre_year.columns\n",
        "for i in range(1, len(genre)):\n",
        "    sns.lineplot(data=df_genre_year, x='Year', y=genre[i], label=genre[i])"
      ],
      "metadata": {
        "id": "qxhZ3vTBN5y8"
      },
      "execution_count": null,
      "outputs": []
    },
    {
      "cell_type": "code",
      "source": [
        "# 연도에 따른 장르별 판매량 (스캐터플럿)\n",
        "plt.figure(figsize=(12, 10))\n",
        "sns.scatterplot(data=df, x=\"Year\", y=\"Global_Sales\", \n",
        "                hue=\"Genre\", size=\"Global_Sales\", sizes=(30, 300))"
      ],
      "metadata": {
        "id": "fF8tZtnCOloR"
      },
      "execution_count": null,
      "outputs": []
    },
    {
      "cell_type": "code",
      "source": [
        "## 연도에 따른 각 지역별 판매량 전처리(라인 그래프)\n",
        "df_year_region = df.groupby(['Year'])['NA_Sales', 'EU_Sales', 'JP_Sales', 'Other_Sales', 'Global_Sales'].sum().stack()\n",
        "df_year_region = df_year_region.reset_index()\n",
        "df_year_region.rename(columns = {'level_1' : 'Region'}, inplace = True)\n",
        "df_year_region.rename(columns = {0 : 'Sales'}, inplace = True)\n",
        "df_year_region.head()"
      ],
      "metadata": {
        "id": "Mfhkq6p6PEzz"
      },
      "execution_count": null,
      "outputs": []
    },
    {
      "cell_type": "code",
      "source": [
        "# 연도에 따른 지역별 판매량 그래프 그리기\n",
        "plt.figure(figsize=(15, 5))\n",
        "sns.lineplot(data=df_year_region, x=\"Year\", y=\"Sales\", hue=\"Region\", linewidth=3)\n",
        "plt.legend(bbox_to_anchor=(1.02, 1), loc=2, borderaxespad=0.)\n",
        "plt.title('연도에 따른 각 지역별 판매량', fontsize=20)"
      ],
      "metadata": {
        "id": "xitR-RZ7PbbK"
      },
      "execution_count": null,
      "outputs": []
    },
    {
      "cell_type": "code",
      "source": [
        "##시대별 (10년 단위) 게임 장르 트렌드\n"
      ],
      "metadata": {
        "id": "uLBsCrAXQVT6"
      },
      "execution_count": null,
      "outputs": []
    },
    {
      "cell_type": "code",
      "source": [
        "####더 추가하기 평균과 표준편차.넣기"
      ],
      "metadata": {
        "id": "UBNWpXDhrR05"
      },
      "execution_count": null,
      "outputs": []
    },
    {
      "cell_type": "markdown",
      "source": [
        "# 머신러닝 Part"
      ],
      "metadata": {
        "id": "Yc9MXAtQrWLp"
      }
    },
    {
      "cell_type": "code",
      "source": [
        "# 모델 SVM "
      ],
      "metadata": {
        "id": "sdTLSRI9rdTH"
      },
      "execution_count": null,
      "outputs": []
    },
    {
      "cell_type": "markdown",
      "source": [
        "### Randonforest regressor"
      ],
      "metadata": {
        "id": "9yuouYqM050a"
      }
    },
    {
      "cell_type": "code",
      "source": [
        "from sklearn.model_selection import train_test_split\n",
        "from sklearn.feature_extraction import DictVectorizer\n",
        "from sklearn.ensemble import RandomForestRegressor\n",
        "from sklearn.metrics import r2_score\n",
        "from sklearn.metrics import mean_squared_error\n",
        "# 데이터 학습/테스트 분리\n",
        "#'NA_Sales','EU_Sales','JP_Sales','Other_Sales'제외\n",
        "df1 = df_sales[['Name','Platform','Year','Genre','Global_Sales']]"
      ],
      "metadata": {
        "id": "jArlhV46ry6t"
      },
      "execution_count": null,
      "outputs": []
    },
    {
      "cell_type": "code",
      "source": [
        "## 원핫인코딩\n",
        "#df1 = pd.get_dummies(df1, columns=['Name','Platform','Year','Genre'])\n",
        "#df1.head()"
      ],
      "metadata": {
        "id": "BMRXDyq17WHB"
      },
      "execution_count": null,
      "outputs": []
    },
    {
      "cell_type": "code",
      "source": [
        "# 원핫인코딩2\n",
        "#from sklearn.preprocessing import OneHotEncoder\n",
        "#ohe = OneHotEncoder(sparse=False)\n",
        "#ohe_df = ohe.fit_transform(df1[['Name','Platform','Year','Genre']])"
      ],
      "metadata": {
        "id": "v5MKZB11BoDc"
      },
      "execution_count": null,
      "outputs": []
    },
    {
      "cell_type": "code",
      "source": [
        "#ohe_df = pd.DataFrame(ohe_df)\n",
        "#ohe_df.head()"
      ],
      "metadata": {
        "id": "A0lNc_rYC9fI"
      },
      "execution_count": null,
      "outputs": []
    },
    {
      "cell_type": "code",
      "source": [
        "## ordinalencoding\n",
        "from sklearn.preprocessing import OrdinalEncoder\n",
        "enc = OrdinalEncoder()\n",
        "enc_df = enc.fit_transform(df1[['Name','Platform','Year','Genre']])"
      ],
      "metadata": {
        "id": "X2k-RlJtazS8"
      },
      "execution_count": null,
      "outputs": []
    },
    {
      "cell_type": "code",
      "source": [
        "#인코딩확인 넘파이배열 데이터프레임으로 변경\n",
        "enc_df= pd.DataFrame(enc_df)\n",
        "enc_df.head()"
      ],
      "metadata": {
        "id": "_0eHdNjEezln"
      },
      "execution_count": null,
      "outputs": []
    },
    {
      "cell_type": "code",
      "source": [
        "df1 = pd.DataFrame(df1)\n",
        "df1.head()"
      ],
      "metadata": {
        "id": "bJADULLztXQU"
      },
      "execution_count": null,
      "outputs": []
    },
    {
      "cell_type": "code",
      "source": [
        "#Global_Sales 가 아닌값만 x로 지정\n",
        "x = enc_df\n",
        "y = df1['Global_Sales']"
      ],
      "metadata": {
        "id": "jQWDnrS58DPz"
      },
      "execution_count": null,
      "outputs": []
    },
    {
      "cell_type": "code",
      "source": [
        "## 데이터분리\n",
        "x_train, x_test, y_train, y_test = train_test_split(x, y, test_size=0.3, random_state=0)"
      ],
      "metadata": {
        "id": "So4lvzpZ30JS"
      },
      "execution_count": null,
      "outputs": []
    },
    {
      "cell_type": "code",
      "source": [
        "#랜덤 포레스트 모델 학습\n",
        "forest = RandomForestRegressor(n_estimators=1000, criterion='squared_error')\n",
        "forest.fit(x_train,y_train)"
      ],
      "metadata": {
        "id": "wAxE-ixo4VDe"
      },
      "execution_count": null,
      "outputs": []
    },
    {
      "cell_type": "code",
      "source": [
        "y_train_pred = forest.predict(x_train)\n",
        "y_test_pred = forest.predict(x_test)"
      ],
      "metadata": {
        "id": "KyPANS4U4YNi"
      },
      "execution_count": null,
      "outputs": []
    },
    {
      "cell_type": "code",
      "source": [
        "#학습 모델 평가\n",
        "print('MSE train: %.3f, test: %.3f' % (\n",
        "        mean_squared_error(y_train, y_test_pred),\n",
        "        mean_squared_error(y_test, y_test_pred)))\n",
        "print('R^2 train: %.3f, test: %.3f' %(\n",
        "      r2_score(y_train, y_train_pred),\n",
        "      r2_score(y_test, y_test_pred)))"
      ],
      "metadata": {
        "id": "bUORbjXz4vQu"
      },
      "execution_count": null,
      "outputs": []
    },
    {
      "cell_type": "markdown",
      "source": [
        "### decision tree"
      ],
      "metadata": {
        "id": "PjWIiSKlRgvo"
      }
    },
    {
      "cell_type": "code",
      "source": [
        "from sklearn.tree import DecisionTreeClassifier\n",
        "classifier = DecisionTreeClassifier()\n",
        "classifier.fit(x_train, training_labels)"
      ],
      "metadata": {
        "id": "Oqnq6RV_Rbac"
      },
      "execution_count": null,
      "outputs": []
    },
    {
      "cell_type": "code",
      "source": [
        "##분류정확도\n",
        "print(classifier.score(test_data, test_labels))"
      ],
      "metadata": {
        "id": "gWAVfatwyvWc"
      },
      "execution_count": null,
      "outputs": []
    },
    {
      "cell_type": "markdown",
      "source": [
        "# SVM 모델 (SVR)"
      ],
      "metadata": {
        "id": "D2BzLTe68Rce"
      }
    },
    {
      "cell_type": "code",
      "source": [
        "#SVM모델은 회귀모델인지 분류모델인지에 따라서 달라진다.\n",
        "#SVC는 분류형 모델이고 SVR은 회귀형(예측)모델 이다.\n",
        "#SVR "
      ],
      "metadata": {
        "id": "IJ029YFc8Uv5"
      },
      "execution_count": null,
      "outputs": []
    },
    {
      "cell_type": "code",
      "source": [
        "from sklearn.svm import SVR\n",
        "from sklearn.model_selection import cross_val_score\n",
        "from sklearn.datasets import make_regression\n",
        "from sklearn.preprocessing import scale\n",
        "\n",
        "svr_rbf = SVR(kernel='rbf', c=100, gamma=0.1, epsilon=.1)\n",
        "svr_lin = SVR(kernel='linear', c=100, gamma='auto')\n",
        "svr_poly = SVR(kernel='poly', c=100, gamma=0.1, degree=3, epsilon=.1, coef0=1)\n",
        "\n",
        "y_rbf = svr_rbf.fit(x,y).predict(x)\n",
        "y_lin = svr_lin.fit(x,y).predict(x)\n",
        "y_poly = svr_poly.fit(x,y).predict(x)\n"
      ],
      "metadata": {
        "id": "ik1rFwJn-IsV"
      },
      "execution_count": null,
      "outputs": []
    },
    {
      "cell_type": "code",
      "source": [
        "#모델\n",
        "svr = SVR(kernel='rbf', gamma='auto')\n",
        "svr.fit(x_train,y_train)"
      ],
      "metadata": {
        "id": "bHMmrPRy_AF_"
      },
      "execution_count": null,
      "outputs": []
    },
    {
      "cell_type": "code",
      "source": [
        "score = svr.score(x_train, y_train)\n",
        "print(\"R-squared:\", score)\n",
        "\n",
        "cv_score = cross_val_score(svr, x, y, cv=5)\n",
        "print(\"CV mean score: \", cv_score.mean())\n",
        "\n",
        "svr_y_pred = svr.predict(x_test)\n",
        "\n",
        "mse = mean_squared_error(y_test,svr_y_pred)\n",
        "print(\"MSE: \", mse)\n",
        "\n",
        "x_ax = range(len(y_test))\n",
        "plt.plot(x_ax, y_test, label='origianl')\n",
        "plt.plot(x_ax, svr_y_pred, label='predicted')\n",
        "plt.title(\"game\")\n",
        "plt.legend()\n",
        "plt.show()"
      ],
      "metadata": {
        "id": "eWW6dTxH_QGo"
      },
      "execution_count": null,
      "outputs": []
    },
    {
      "cell_type": "markdown",
      "source": [
        "## 데이터2 "
      ],
      "metadata": {
        "id": "pyqi_61EswDu"
      }
    },
    {
      "cell_type": "code",
      "source": [
        "from google.colab import files\n",
        "uploaded = files.upload()"
      ],
      "metadata": {
        "id": "W22L0TnDjt8W"
      },
      "execution_count": null,
      "outputs": []
    },
    {
      "cell_type": "code",
      "source": [
        "df2 = pd.read_csv(io.StringIO(uploaded['appstore_games.csv'].decode('utf-8')))"
      ],
      "metadata": {
        "id": "dELv_e2pp5ZY"
      },
      "execution_count": null,
      "outputs": []
    },
    {
      "cell_type": "code",
      "source": [
        "df2.shape"
      ],
      "metadata": {
        "id": "a-dz24q7wyc7"
      },
      "execution_count": null,
      "outputs": []
    },
    {
      "cell_type": "code",
      "source": [
        "df2.head(2000)"
      ],
      "metadata": {
        "id": "QYQaBBzpq1r6"
      },
      "execution_count": null,
      "outputs": []
    },
    {
      "cell_type": "code",
      "source": [
        "df2_sorted_by_values = df2.sort_values(by='Year', ascending=False)"
      ],
      "metadata": {
        "id": "LHm4GC80rlJu"
      },
      "execution_count": null,
      "outputs": []
    },
    {
      "cell_type": "code",
      "source": [
        "df2_sorted_by_values.head(40000)"
      ],
      "metadata": {
        "id": "YpujNL08sGPv"
      },
      "execution_count": null,
      "outputs": []
    },
    {
      "cell_type": "code",
      "source": [
        "df.loc[(df[\"Year\"] == 2017.0)]"
      ],
      "metadata": {
        "id": "zZMV4d6CxshJ"
      },
      "execution_count": null,
      "outputs": []
    }
  ]
}