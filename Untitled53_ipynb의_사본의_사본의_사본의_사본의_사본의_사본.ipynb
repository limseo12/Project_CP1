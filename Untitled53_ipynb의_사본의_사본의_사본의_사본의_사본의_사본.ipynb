{
  "nbformat": 4,
  "nbformat_minor": 0,
  "metadata": {
    "colab": {
      "private_outputs": true,
      "provenance": [],
      "authorship_tag": "ABX9TyPYDsUUbadI+mBm0OjJEmTs",
      "include_colab_link": true
    },
    "kernelspec": {
      "name": "python3",
      "display_name": "Python 3"
    },
    "language_info": {
      "name": "python"
    },
    "accelerator": "GPU",
    "gpuClass": "standard"
  },
  "cells": [
    {
      "cell_type": "markdown",
      "metadata": {
        "id": "view-in-github",
        "colab_type": "text"
      },
      "source": [
        "<a href=\"https://colab.research.google.com/github/limseo12/Project_CP1/blob/main/Untitled53_ipynb%EC%9D%98_%EC%82%AC%EB%B3%B8%EC%9D%98_%EC%82%AC%EB%B3%B8%EC%9D%98_%EC%82%AC%EB%B3%B8%EC%9D%98_%EC%82%AC%EB%B3%B8%EC%9D%98_%EC%82%AC%EB%B3%B8%EC%9D%98_%EC%82%AC%EB%B3%B8.ipynb\" target=\"_parent\"><img src=\"https://colab.research.google.com/assets/colab-badge.svg\" alt=\"Open In Colab\"/></a>"
      ]
    },
    {
      "cell_type": "code",
      "source": [
        "from sklearn.feature_extraction import DictVectorizer\n",
        "from sklearn.ensemble import RandomForestRegressor\n",
        "from sklearn.metrics import r2_score\n",
        "from sklearn.metrics import mean_squared_error\n",
        "import seaborn as sns\n",
        "import numpy as np\n",
        "import pandas as pd\n",
        "import matplotlib.pyplot as plt\n",
        "from sklearn.svm import SVR\n",
        "from sklearn.model_selection import cross_val_score\n",
        "from sklearn.datasets import make_regression\n",
        "from sklearn.preprocessing import scale\n",
        "from sklearn.model_selection import train_test_split\n",
        "from plotly import express as px\n",
        "# WordCloud Packages\n",
        "from wordcloud import WordCloud, STOPWORDS , ImageColorGenerator\n",
        "from PIL import Image\n",
        "#폰트\n",
        "plt.rc('font', family='NanumBarunGothic') "
      ],
      "metadata": {
        "id": "HgyQdwrpbEfL"
      },
      "execution_count": null,
      "outputs": []
    },
    {
      "cell_type": "code",
      "execution_count": null,
      "metadata": {
        "id": "bKKY1BEsnRfy"
      },
      "outputs": [],
      "source": [
        "from google.colab import files\n",
        "uploaded = files.upload()"
      ]
    },
    {
      "cell_type": "code",
      "source": [
        "import io\n",
        "df = pd.read_csv(io.StringIO(uploaded['Game_data_EDA.csv'].decode('utf-8')))"
      ],
      "metadata": {
        "id": "ChvJ9rqRde7h"
      },
      "execution_count": null,
      "outputs": []
    },
    {
      "cell_type": "code",
      "source": [
        "df.head(10000)"
      ],
      "metadata": {
        "id": "9K4K0T4GeGZU"
      },
      "execution_count": null,
      "outputs": []
    },
    {
      "cell_type": "code",
      "source": [
        "print(df.shape)"
      ],
      "metadata": {
        "id": "mEXS84GWjntz"
      },
      "execution_count": null,
      "outputs": []
    },
    {
      "cell_type": "markdown",
      "source": [
        "### **EDA**"
      ],
      "metadata": {
        "id": "1KDIWzaX0ySo"
      }
    },
    {
      "cell_type": "code",
      "source": [
        "## Year 기준으로 재 정렬하는 코드 ascending = True 오름차순 , False 내림차순\n",
        "df = df_sorted_by_values = df.sort_values(by='Year', ascending=False)"
      ],
      "metadata": {
        "id": "n-WWgoxckfZ9"
      },
      "execution_count": null,
      "outputs": []
    },
    {
      "cell_type": "code",
      "source": [
        "#정렬 결과 출력\n",
        "df.head(20000)"
      ],
      "metadata": {
        "id": "rVmTpIA1kwtj"
      },
      "execution_count": null,
      "outputs": []
    },
    {
      "cell_type": "code",
      "source": [
        "df.isnull().sum()"
      ],
      "metadata": {
        "id": "pcju1XqOlUoF"
      },
      "execution_count": null,
      "outputs": []
    },
    {
      "cell_type": "code",
      "source": [
        "df.dtypes"
      ],
      "metadata": {
        "id": "WLyq6blTBLMY"
      },
      "execution_count": null,
      "outputs": []
    },
    {
      "cell_type": "code",
      "source": [
        "##최근데이터들이 결측치가 많아 따로 확인 2019~2021년도\n",
        "#df.loc[(df[\"Year\"] == 2016.0)]\n",
        "df.loc[(df[\"Year\"] == 2017.0)]"
      ],
      "metadata": {
        "id": "NdAlXRYgvFMA"
      },
      "execution_count": null,
      "outputs": []
    },
    {
      "cell_type": "code",
      "source": [
        "#Unnamed 부분은 대부분 결측치이며\n",
        "# Critic_Score , Critic_Count, User_Count 부분도 결측치가 많다"
      ],
      "metadata": {
        "id": "t5lJVeV9tGEv"
      },
      "execution_count": null,
      "outputs": []
    },
    {
      "cell_type": "code",
      "source": [
        "##unnamed 등 3분의1이 결측치인것들\n",
        "##User_Score 같은 부분은 결측치가 많아도 중요한 데이터이기에 제거 일단 보류\n",
        "##의미없는 데이터먼저 제거\n",
        "##null 값을 dropna 하려 했으나 데이터를 조금더 분류한뒤에 제거하기로함(데이터가 한번 다 날라갔다)\n",
        "df.drop(['Unnamed: 0'], axis=1, inplace=True)\n",
        "df.drop(['Unnamed: 17'], axis=1, inplace=True)\n",
        "df.drop(['Null'], axis=1, inplace=True)\n",
        "df.drop(['Rating'], axis=1, inplace=True)\n",
        "df.drop(['Rank'], axis=1, inplace=True)"
      ],
      "metadata": {
        "id": "S7PV68JPtcg-"
      },
      "execution_count": null,
      "outputs": []
    },
    {
      "cell_type": "code",
      "source": [
        "df.head()"
      ],
      "metadata": {
        "id": "c_OFlqgINlZ9"
      },
      "execution_count": null,
      "outputs": []
    },
    {
      "cell_type": "markdown",
      "source": [
        "매출부분"
      ],
      "metadata": {
        "id": "UxJyL5dMEi8f"
      }
    },
    {
      "cell_type": "code",
      "source": [
        "## 기본적인 부분만 가져오기 선호도, 평가 제외\n",
        "df_sales = df[['Name','Platform',\t'Year',\t'Genre','Publisher','NA_Sales','EU_Sales','JP_Sales','Other_Sales','Global_Sales']]\n",
        "df_sales.head()"
      ],
      "metadata": {
        "id": "G6Udq577Dbk-"
      },
      "execution_count": null,
      "outputs": []
    },
    {
      "cell_type": "code",
      "source": [
        "#null 제거하니 40719x14로 20000개 가량 데이터 손실\n",
        "df_sales = df_sales.dropna()"
      ],
      "metadata": {
        "id": "tspbwOQjFYbf"
      },
      "execution_count": null,
      "outputs": []
    },
    {
      "cell_type": "code",
      "source": [
        "df.shape"
      ],
      "metadata": {
        "id": "KzFlIZLSEgFp"
      },
      "execution_count": null,
      "outputs": []
    },
    {
      "cell_type": "code",
      "source": [
        "#2020년도 데이터는 1개 밖에 없으므로 제거(dropna 하면서 날라감)\n",
        "df_sales = df_sales.drop([15554], axis=0)\n",
        "df_sales.shape"
      ],
      "metadata": {
        "id": "GGPK7fCCa6Zt"
      },
      "execution_count": null,
      "outputs": []
    },
    {
      "cell_type": "code",
      "source": [
        "#int로 타입변환전 단위변환 현재 million 단위 1000000\n",
        "df_sales['NA_Sales'] = (df_sales['NA_Sales'].replace('.',''))*10000\n",
        "df_sales['EU_Sales'] = (df_sales['EU_Sales'].replace('.',''))*10000\n",
        "df_sales['JP_Sales'] = (df_sales['JP_Sales'].replace('.',''))*10000\n",
        "df_sales['Other_Sales'] = (df_sales['Other_Sales'].replace('.',''))*10000\n",
        "df_sales['Global_Sales'] = (df_sales['Global_Sales'].replace('.',''))*10000\n",
        "df_sales.head()"
      ],
      "metadata": {
        "id": "8K2pIAmwZPgW"
      },
      "execution_count": null,
      "outputs": []
    },
    {
      "cell_type": "code",
      "source": [
        "#int 로 변환 x woudcloud\n",
        "df_sales['Year'] = df_sales['Year'].astype(int)\n",
        "df_sales['NA_Sales'] = df_sales['NA_Sales'].astype(int)\n",
        "df_sales['EU_Sales'] = df_sales['EU_Sales'].astype(int)\n",
        "df_sales['JP_Sales'] = df_sales['JP_Sales'].astype(int)\n",
        "df_sales['Other_Sales'] = df_sales['Other_Sales'].astype(int)\n",
        "df_sales['Global_Sales'] = df_sales['Global_Sales'].astype(int)"
      ],
      "metadata": {
        "id": "VdUNTPMeXPJO"
      },
      "execution_count": null,
      "outputs": []
    },
    {
      "cell_type": "code",
      "source": [
        "df_sales"
      ],
      "metadata": {
        "id": "HZZw86kbdkZ6"
      },
      "execution_count": null,
      "outputs": []
    },
    {
      "cell_type": "markdown",
      "source": [
        "# 판매량에 따른 상관관계 분석"
      ],
      "metadata": {
        "id": "ZExfwLQwjsrw"
      }
    },
    {
      "cell_type": "code",
      "source": [
        "## 장르와 판매량만 묶기, 장르끼리 데이터 합쳐주고 인덱스 다시부여\n",
        "df_genre_year = df_sales[['Genre','NA_Sales','EU_Sales','JP_Sales','Other_Sales','Global_Sales']]\n",
        "df_genre_year = df.groupby(['Year', 'Genre'])['Global_Sales'].sum().unstack()\n",
        "df_genre_year = df_genre_year.reset_index()\n",
        "df_genre_year.head()"
      ],
      "metadata": {
        "id": "v3nemzVWj1dT"
      },
      "execution_count": null,
      "outputs": []
    },
    {
      "cell_type": "code",
      "source": [
        "##연도에 따른 장르별 판매량\n",
        "sns.set_palette('rainbow')\n",
        "plt.figure(figsize=(15, 8))\n",
        "plt.title('Year sales data with Genre', fontsize=20)\n",
        "genre = df_genre_year.columns\n",
        "for i in range(1, len(genre)):\n",
        "    sns.lineplot(data=df_genre_year, x='Year', y=genre[i], label=genre[i])"
      ],
      "metadata": {
        "id": "qxhZ3vTBN5y8"
      },
      "execution_count": null,
      "outputs": []
    },
    {
      "cell_type": "code",
      "source": [
        "# 연도에 따른 장르별 판매량 (px스캐터플럿)\n",
        "fig = px.scatter(df_sales, x=\"Year\", y=\"Global_Sales\", color=\"Genre\",\n",
        "                 size='Global_Sales', hover_data=['Name'],\n",
        "                 title=\"Year Wise Global Video Game Sales by Genere\",\n",
        "                 labels={'x':'Years', 'y':'Global Sales In Millions'}\n",
        "                )\n",
        "\n",
        "fig.show()"
      ],
      "metadata": {
        "id": "GgYoaOxq6PqP"
      },
      "execution_count": null,
      "outputs": []
    },
    {
      "cell_type": "markdown",
      "source": [
        "2005 ~ 2010년 쯤 압도적으로 높은 스포츠 게임이 있다 (그 부분을 제거 할지 말지?)\n",
        "2015~ 2020은 슈팅 게임이  높다."
      ],
      "metadata": {
        "id": "Px5tW4uX_vwl"
      }
    },
    {
      "cell_type": "code",
      "source": [
        "## 연도에 따른 각 지역별 판매량 전처리(라인 그래프)\n",
        "df_year_region = df.groupby(['Year'])['NA_Sales', 'EU_Sales', 'JP_Sales', 'Other_Sales', 'Global_Sales'].sum().stack()\n",
        "df_year_region = df_year_region.reset_index()\n",
        "df_year_region.rename(columns = {'level_1' : 'Region'}, inplace = True)\n",
        "df_year_region.rename(columns = {0 : 'Sales'}, inplace = True)\n",
        "df_year_region.head()"
      ],
      "metadata": {
        "id": "Mfhkq6p6PEzz"
      },
      "execution_count": null,
      "outputs": []
    },
    {
      "cell_type": "code",
      "source": [
        "# 연도에 따른 지역별 판매량 그래프 그리기\n",
        "plt.figure(figsize=(15, 5))\n",
        "sns.lineplot(data=df_year_region, x=\"Year\", y=\"Sales\", hue=\"Region\", linewidth=3)\n",
        "plt.legend(bbox_to_anchor=(1.02, 1), loc=2, borderaxespad=0.)\n",
        "plt.title('Region Sales by year', fontsize=20)"
      ],
      "metadata": {
        "id": "xitR-RZ7PbbK"
      },
      "execution_count": null,
      "outputs": []
    },
    {
      "cell_type": "markdown",
      "source": [
        "2000년 ~ 2010년 북미 판매량이 아주 높은것을 알 수 있다 그 다음으로는 유럽 판매량."
      ],
      "metadata": {
        "id": "BqBIGwwj_2Kz"
      }
    },
    {
      "cell_type": "code",
      "source": [
        "##연도별 판매량과 카테고리 피쳐 만들기\n",
        "\n",
        "#numerical_df=\tdf_sales[['Year','NA_Sales'\t,'EU_Sales'\t,'JP_Sales'\t,'Other_Sales',\t'Global_Sales']]\n",
        "# df_categori 및 numeric_df에서 Categorical 및 Numerical Feature 목록을 생성합니다.\n",
        "df_categori = df_sales[['Name','Platform','Year','Genre',]]\n",
        "\n",
        "categorical_features = df_categori.columns\n",
        "print(categorical_features)\n",
        "\n",
        "print('-' * 60)\n",
        "\n",
        "numerical_features = df_year_region.columns #연도별판매량\n",
        "print(numerical_features)"
      ],
      "metadata": {
        "id": "KOqZmdNX-Jfk"
      },
      "execution_count": null,
      "outputs": []
    },
    {
      "cell_type": "code",
      "source": [
        "# 카테고리특성 표준화\n",
        "\n",
        "for category_name in categorical_features:\n",
        "    print('-' * 50)\n",
        "    print(\"Column Name: \", category_name)\n",
        "    print(' ' * 50)\n",
        "    \n",
        "    print(df[category_name].value_counts().head())\n",
        "    \n",
        "    print('-' * 50)\n",
        "    print('-' * 50)"
      ],
      "metadata": {
        "id": "NvcC58uE-9mP"
      },
      "execution_count": null,
      "outputs": []
    },
    {
      "cell_type": "markdown",
      "source": [
        "이름으로는: Need for Speed: Most Wanted.\n",
        "플랫폼은 : PS2.\n",
        "연도는 : 2009.\n",
        "장르는 : 액션."
      ],
      "metadata": {
        "id": "94SPOwYdG5Ry"
      }
    },
    {
      "cell_type": "code",
      "source": [
        "# 선버스트 그래프를 사용한 모든 국가의 장르, 퍼블리셔 및 플랫폼별 상위 10개 게임 판매량\n",
        "top_sales = df_sales.sort_values(by=['NA_Sales', 'EU_Sales', 'JP_Sales', 'Other_Sales'], ascending=False).head(10)\n",
        "\n",
        "# ['NA_Sales', '', '', '']\n",
        "dicts_name = {\n",
        "    'NA_Sales' : \"북미\",\n",
        "    'EU_Sales' : \"유럽\",\n",
        "    'JP_Sales' : \"일본\",\n",
        "    'Other_Sales' : \"그외\",\n",
        "}\n",
        "\n",
        "for (key, title) in dicts_name.items():\n",
        "    \n",
        "    fig = px.sunburst(top_sales, path=['Genre', 'Publisher', 'Platform'], values=key, title= '상위 10개 by '+ title)\n",
        "    \n",
        "    fig.update_layout(\n",
        "        grid= dict(columns=2, rows=2),\n",
        "        margin = dict(t=40, l=2, r=2, b=5)\n",
        "    )\n",
        "\n",
        "    fig.show()"
      ],
      "metadata": {
        "id": "ImtZkrGP8mSa"
      },
      "execution_count": null,
      "outputs": []
    },
    {
      "cell_type": "markdown",
      "source": [
        "북미는 플랫폼 닌텐도.\n",
        "유럽은 스포츠 닌텐도\n",
        "일본은 플랫폼 닌텐도 가 가장 많은 것을 알 수 있다."
      ],
      "metadata": {
        "id": "_v3gxfpiyiUr"
      }
    },
    {
      "cell_type": "code",
      "source": [
        "## 상관관계표시 hearmap\n",
        "corr_ = df.corr()\n",
        "\n",
        "plt.figure(figsize=(12, 7))\n",
        "\n",
        "sns.heatmap(corr_, annot=True, linewidths=.2, cmap='RdYlBu_r')\n",
        "\n",
        "plt.show()"
      ],
      "metadata": {
        "id": "NUIIaqObPD2u"
      },
      "execution_count": null,
      "outputs": []
    },
    {
      "cell_type": "markdown",
      "source": [
        "# 머신러닝 인코딩 데이터분리"
      ],
      "metadata": {
        "id": "Yc9MXAtQrWLp"
      }
    },
    {
      "cell_type": "code",
      "source": [
        "##라벨인코딩 (회귀에는 보통 라벨인코딩을 사용하지 않는다 피쳐 데이터가 순서형이 아니므로 사용하였다.)\n",
        "from sklearn.preprocessing import LabelEncoder\n",
        "data = df_sales.copy()\n",
        "\n",
        "le = LabelEncoder()\n",
        "feature = [\"Platform\", \"Genre\"]\n",
        "\n",
        "\n",
        "for col in feature:\n",
        "   data[col] = le.fit_transform(df_sales[col])"
      ],
      "metadata": {
        "id": "vcJSf5GKQYxB"
      },
      "execution_count": null,
      "outputs": []
    },
    {
      "cell_type": "code",
      "source": [
        "## x, y 분리 y는 글로벌 판매량만\n",
        "\n",
        "X = data[['Platform', 'Genre']].values\n",
        "\n",
        "y = data['Global_Sales'].values\n",
        "X[:5], y[:5]"
      ],
      "metadata": {
        "id": "e2kHHJBrQauo"
      },
      "execution_count": null,
      "outputs": []
    },
    {
      "cell_type": "code",
      "source": [
        "##테스트데이터 분리\n",
        "from sklearn.model_selection import train_test_split\n",
        "X_train, X_test, y_train, y_test = train_test_split(X, y, test_size=.2, random_state=45)\n",
        "X_train.shape, y_train.shape, X_test.shape, y_test.shape"
      ],
      "metadata": {
        "id": "ddztCgIgQeLO"
      },
      "execution_count": null,
      "outputs": []
    },
    {
      "cell_type": "markdown",
      "source": [
        "# Linear regression 1\n"
      ],
      "metadata": {
        "id": "GQ-4reQ97Za6"
      }
    },
    {
      "cell_type": "code",
      "source": [
        "from sklearn.linear_model import LinearRegression\n",
        "from sklearn.metrics import r2_score\n",
        "lr1 = LinearRegression()\n",
        "\n",
        "history = lr1.fit(X_train, y_train)\n",
        "\n",
        "pred = lr1.predict(X_test)\n",
        "\n",
        "r2_MultiLinear = r2_score(y_test,pred)\n",
        "print(r2_MultiLinear)\n",
        "\n",
        "print(lr1.score(X_test, y_test))"
      ],
      "metadata": {
        "id": "K97hUvZOQhpD"
      },
      "execution_count": null,
      "outputs": []
    },
    {
      "cell_type": "markdown",
      "source": [
        "# KNeighborsRegressor"
      ],
      "metadata": {
        "id": "YHjiJ69tVHeL"
      }
    },
    {
      "cell_type": "code",
      "source": [
        "from sklearn.neighbors import KNeighborsRegressor\n",
        "kRange = range(1,15,1)\n",
        "\n",
        "scores_list = []\n",
        "for i in kRange:\n",
        "    regressor_knn = KNeighborsRegressor(n_neighbors = i)\n",
        "    \n",
        "    regressor_knn.fit(X_train,y_train)\n",
        "    pred = regressor_knn.predict(X_test)\n",
        "    \n",
        "    scores_list.append(r2_score(y_test,pred))\n",
        "    \n",
        "plt.plot(kRange, scores_list, linewidth=2, color='blue')\n",
        "plt.xticks(kRange)\n",
        "\n",
        "plt.xlabel('Neighbor Number')\n",
        "plt.ylabel('r2_Score of KNN')\n",
        "plt.show()   "
      ],
      "metadata": {
        "id": "z-n3DwR-Qkub"
      },
      "execution_count": null,
      "outputs": []
    },
    {
      "cell_type": "code",
      "source": [
        "#  KNN 모델 훈련\n",
        "regressor_knn = KNeighborsRegressor(n_neighbors = 3)\n",
        "\n",
        "regressor_knn.fit(X_train,y_train)\n",
        "pred = regressor_knn.predict(X_test)\n",
        "\n",
        "r2_knn = r2_score(y_test,pred)\n",
        "print(r2_knn)"
      ],
      "metadata": {
        "id": "Sq-6jfgtQsSM"
      },
      "execution_count": null,
      "outputs": []
    },
    {
      "cell_type": "markdown",
      "source": [
        "# Decision Tree Regressor"
      ],
      "metadata": {
        "id": "Z7uINRcpVOUP"
      }
    },
    {
      "cell_type": "code",
      "source": [
        "from sklearn.tree import DecisionTreeRegressor\n",
        "\n",
        "dtr = DecisionTreeRegressor(random_state=32)\n",
        "dtr.fit(X_train, y_train)\n",
        "\n",
        "pred = dtr.predict(X_test)\n",
        "\n",
        "print(r2_score(y_test, pred))"
      ],
      "metadata": {
        "id": "trJ-1AIKQsh0"
      },
      "execution_count": null,
      "outputs": []
    },
    {
      "cell_type": "markdown",
      "source": [
        "# RandomForest Regressor1"
      ],
      "metadata": {
        "id": "Z1Iqh0LjVRCe"
      }
    },
    {
      "cell_type": "code",
      "source": [
        "from sklearn.ensemble import RandomForestRegressor\n",
        "\n",
        "rfr = RandomForestRegressor(random_state= 10)\n",
        "rfr.fit(X_train, y_train)\n",
        "\n",
        "pred = rfr.predict(X_test)\n",
        "\n",
        "print(r2_score(y_test, pred))"
      ],
      "metadata": {
        "id": "MloRDdvFQwda"
      },
      "execution_count": null,
      "outputs": []
    },
    {
      "cell_type": "markdown",
      "source": [
        "# SVM (SVR) 1"
      ],
      "metadata": {
        "id": "OEw8aRjxVU8v"
      }
    },
    {
      "cell_type": "code",
      "source": [
        "from sklearn.svm import SVR\n",
        "\n",
        "svr_linear = SVR(kernel='linear')\n",
        "\n",
        "svr_rbf = SVR(kernel='rbf')"
      ],
      "metadata": {
        "id": "C3fG-ACNQzj8"
      },
      "execution_count": null,
      "outputs": []
    },
    {
      "cell_type": "markdown",
      "source": [
        "# XGBoost 1"
      ],
      "metadata": {
        "id": "M8b6dPMUVdIQ"
      }
    },
    {
      "cell_type": "code",
      "source": [
        "from xgboost import XGBRegressor\n",
        "\n",
        "xgb = XGBRegressor()\n",
        "xgb.fit(X_train, y_train)\n",
        "\n",
        "pred = xgb.predict(X_test)\n",
        "\n",
        "print(r2_score(y_test, pred))"
      ],
      "metadata": {
        "id": "MFW6O_OlQ3qV"
      },
      "execution_count": null,
      "outputs": []
    },
    {
      "cell_type": "markdown",
      "source": [
        "# 딥러닝 부분"
      ],
      "metadata": {
        "id": "5M8ZJNrGUu7s"
      }
    },
    {
      "cell_type": "code",
      "source": [
        "!pip install tensorflow-addons\n",
        "from sklearn.preprocessing import StandardScaler\n",
        "import tensorflow as tf\n",
        "import tensorflow_addons as tfa\n",
        "\n"
      ],
      "metadata": {
        "id": "T3sUYw9ky-ME"
      },
      "execution_count": null,
      "outputs": []
    },
    {
      "cell_type": "code",
      "source": [
        "df_sales.head()"
      ],
      "metadata": {
        "id": "EBtk2yBm-0Zn"
      },
      "execution_count": null,
      "outputs": []
    },
    {
      "cell_type": "code",
      "source": [
        "df2 = df_sales[['Platform','Genre','Publisher','Year','Global_Sales']]\n",
        "df2.head()"
      ],
      "metadata": {
        "id": "8KIl6N-C0sqq"
      },
      "execution_count": null,
      "outputs": []
    },
    {
      "cell_type": "code",
      "source": [
        "# onehot 인코딩을 이용하여 deep learning\n",
        "onehot_columns = ['Platform', 'Genre', 'Publisher']\n",
        "def onehot_encode(data, columns):\n",
        "    for column in columns:\n",
        "        dummies = pd.get_dummies(data[column])\n",
        "        data = pd.concat([data, dummies], axis=1)\n",
        "        data.drop(column, axis=1, inplace=True)\n",
        "    return data"
      ],
      "metadata": {
        "id": "pv8vTbyXwQh9"
      },
      "execution_count": null,
      "outputs": []
    },
    {
      "cell_type": "code",
      "source": [
        "ohe_df = onehot_encode(df2, onehot_columns)"
      ],
      "metadata": {
        "id": "R-uV1JQiwfHR"
      },
      "execution_count": null,
      "outputs": []
    },
    {
      "cell_type": "code",
      "source": [
        "ohe_df.head()"
      ],
      "metadata": {
        "id": "z65Fra68yI6T"
      },
      "execution_count": null,
      "outputs": []
    },
    {
      "cell_type": "code",
      "source": [
        "#X와 Y값  X값부터 드랍하고 y값 정의 했다가 오류났다..\n",
        "X = []\n",
        "y = []\n",
        "X_train = []\n",
        "X_test = []\n",
        "y_train = []\n",
        "y_test = []\n",
        "model = []\n",
        "y = ohe_df['Global_Sales']\n",
        "X = ohe_df.drop('Global_Sales', axis=1)\n"
      ],
      "metadata": {
        "id": "L70sSr7l1bgS"
      },
      "execution_count": null,
      "outputs": []
    },
    {
      "cell_type": "code",
      "source": [
        "X.shape, y.shape"
      ],
      "metadata": {
        "id": "erwZ8s1D1uRz"
      },
      "execution_count": null,
      "outputs": []
    },
    {
      "cell_type": "code",
      "source": [
        "scaler = StandardScaler()\n",
        "\n",
        "X = scaler.fit_transform(X)"
      ],
      "metadata": {
        "id": "HqRXOEO815du"
      },
      "execution_count": null,
      "outputs": []
    },
    {
      "cell_type": "code",
      "source": [
        "X_train, X_test, y_train, y_test = train_test_split(X, y, train_size=0.8)"
      ],
      "metadata": {
        "id": "LG0Dh25I2HVz"
      },
      "execution_count": null,
      "outputs": []
    },
    {
      "cell_type": "code",
      "source": [
        "X_train.shape, y_train.shape"
      ],
      "metadata": {
        "id": "UHntBivq7L0R"
      },
      "execution_count": null,
      "outputs": []
    },
    {
      "cell_type": "code",
      "source": [
        "#inputs = tf.keras.Input(shape=(617,)) 여기서 shape가 train shape랑 정확히 맞아야 하는데 오타나서.. 찾는데 한참걸렸다...\n",
        "inputs = tf.keras.Input(shape=(617,))\n",
        "x = tf.keras.layers.Dense(128, activation='relu')(inputs)\n",
        "x = tf.keras.layers.Dense(128, activation='relu')(x)\n",
        "outputs = tf.keras.layers.Dense(1)(x)\n",
        "\n",
        "model = tf.keras.Model(inputs=inputs, outputs=outputs)\n",
        "\n",
        "\n",
        "optimizer = tf.keras.optimizers.RMSprop(0.001)\n",
        "\n",
        "model.compile(\n",
        "    optimizer=optimizer,\n",
        "    loss='mse'\n",
        ")\n",
        "\n",
        "\n",
        "batch_size = 64\n",
        "epochs = 18\n",
        "\n",
        "history = model.fit(\n",
        "    X_train,\n",
        "    y_train,\n",
        "    validation_split=0.2,\n",
        "    batch_size=batch_size,\n",
        "    epochs=epochs,\n",
        "    verbose=0\n",
        ")"
      ],
      "metadata": {
        "id": "Uj1KALsu2T8u"
      },
      "execution_count": null,
      "outputs": []
    },
    {
      "cell_type": "code",
      "source": [
        "plt.figure(figsize=(14, 10))\n",
        "\n",
        "epochs_range = range(1, epochs + 1)\n",
        "train_loss = history.history['loss']\n",
        "val_loss = history.history['val_loss']\n",
        "\n",
        "plt.plot(epochs_range, train_loss, label=\"Training Loss\")\n",
        "plt.plot(epochs_range, val_loss, label=\"Validation Loss\")\n",
        "\n",
        "plt.xlabel(\"Epoch\")\n",
        "plt.ylabel(\"Loss\")\n",
        "plt.legend()\n",
        "\n",
        "plt.show()"
      ],
      "metadata": {
        "id": "y_wFMcQw8mvc"
      },
      "execution_count": null,
      "outputs": []
    },
    {
      "cell_type": "code",
      "source": [
        "np.argmin(val_loss)"
      ],
      "metadata": {
        "id": "K2gv8OUf8ssB"
      },
      "execution_count": null,
      "outputs": []
    },
    {
      "cell_type": "code",
      "source": [
        "y_pred = np.squeeze(model.predict(X_test))\n",
        "\n",
        "result = tfa.metrics.RSquare()\n",
        "result.update_state(y_test, y_pred)\n",
        "\n",
        "print(\"R^2 Score:\", result.result())"
      ],
      "metadata": {
        "id": "6c5rcOrg8vzt"
      },
      "execution_count": null,
      "outputs": []
    },
    {
      "cell_type": "code",
      "source": [
        "model.evaluate(X_test, y_test)"
      ],
      "metadata": {
        "id": "CCvCsqZu80tO"
      },
      "execution_count": null,
      "outputs": []
    },
    {
      "cell_type": "code",
      "source": [
        "history.history['val_loss']"
      ],
      "metadata": {
        "id": "gBNQFEKc82a2"
      },
      "execution_count": null,
      "outputs": []
    }
  ]
}