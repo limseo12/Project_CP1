{
  "nbformat": 4,
  "nbformat_minor": 0,
  "metadata": {
    "colab": {
      "name": "Untitled53.ipynb",
      "private_outputs": true,
      "provenance": [],
      "authorship_tag": "ABX9TyMew5fo0GSl5unCDSdZGeDs",
      "include_colab_link": true
    },
    "kernelspec": {
      "name": "python3",
      "display_name": "Python 3"
    },
    "language_info": {
      "name": "python"
    }
  },
  "cells": [
    {
      "cell_type": "markdown",
      "metadata": {
        "id": "view-in-github",
        "colab_type": "text"
      },
      "source": [
        "<a href=\"https://colab.research.google.com/github/limseo12/Project_CP1/blob/main/Untitled53.ipynb\" target=\"_parent\"><img src=\"https://colab.research.google.com/assets/colab-badge.svg\" alt=\"Open In Colab\"/></a>"
      ]
    },
    {
      "cell_type": "code",
      "execution_count": null,
      "metadata": {
        "id": "bKKY1BEsnRfy"
      },
      "outputs": [],
      "source": [
        "from google.colab import files\n",
        "uploaded = files.upload()"
      ]
    },
    {
      "cell_type": "code",
      "source": [
        "import pandas as pd\n",
        "import io\n",
        "df = pd.read_csv(io.StringIO(uploaded['Game_data_EDA.csv'].decode('utf-8')))"
      ],
      "metadata": {
        "id": "ChvJ9rqRde7h"
      },
      "execution_count": null,
      "outputs": []
    },
    {
      "cell_type": "code",
      "source": [
        "df.head(2000)"
      ],
      "metadata": {
        "id": "9K4K0T4GeGZU"
      },
      "execution_count": null,
      "outputs": []
    },
    {
      "cell_type": "code",
      "source": [
        "print(df.shape)"
      ],
      "metadata": {
        "id": "mEXS84GWjntz"
      },
      "execution_count": null,
      "outputs": []
    },
    {
      "cell_type": "code",
      "source": [
        "## Year 기준으로 재 정렬하는 코드 ascending = True 오름차순 , False 내림차순\n",
        "df_sorted_by_values = df.sort_values(by='Year', ascending=False)"
      ],
      "metadata": {
        "id": "n-WWgoxckfZ9"
      },
      "execution_count": null,
      "outputs": []
    },
    {
      "cell_type": "code",
      "source": [
        "#정렬 결과 출력\n",
        "df_sorted_by_values.head(10000)"
      ],
      "metadata": {
        "id": "rVmTpIA1kwtj"
      },
      "execution_count": null,
      "outputs": []
    },
    {
      "cell_type": "code",
      "source": [
        "df.isnull().sum()"
      ],
      "metadata": {
        "id": "pcju1XqOlUoF"
      },
      "execution_count": null,
      "outputs": []
    },
    {
      "cell_type": "code",
      "source": [
        ""
      ],
      "metadata": {
        "id": "W22L0TnDjt8W"
      },
      "execution_count": null,
      "outputs": []
    }
  ]
}