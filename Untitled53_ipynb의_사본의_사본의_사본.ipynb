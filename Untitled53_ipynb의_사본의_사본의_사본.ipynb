{
  "nbformat": 4,
  "nbformat_minor": 0,
  "metadata": {
    "colab": {
      "name": "Untitled53.ipynb의 사본의 사본의 사본",
      "private_outputs": true,
      "provenance": [],
      "authorship_tag": "ABX9TyNS5LLvFL/QQq8EHG7u8EIj",
      "include_colab_link": true
    },
    "kernelspec": {
      "name": "python3",
      "display_name": "Python 3"
    },
    "language_info": {
      "name": "python"
    }
  },
  "cells": [
    {
      "cell_type": "markdown",
      "metadata": {
        "id": "view-in-github",
        "colab_type": "text"
      },
      "source": [
        "<a href=\"https://colab.research.google.com/github/limseo12/Project_CP1/blob/main/Untitled53_ipynb%EC%9D%98_%EC%82%AC%EB%B3%B8%EC%9D%98_%EC%82%AC%EB%B3%B8%EC%9D%98_%EC%82%AC%EB%B3%B8.ipynb\" target=\"_parent\"><img src=\"https://colab.research.google.com/assets/colab-badge.svg\" alt=\"Open In Colab\"/></a>"
      ]
    },
    {
      "cell_type": "code",
      "source": [
        "from sklearn.feature_extraction import DictVectorizer\n",
        "from sklearn.ensemble import RandomForestRegressor\n",
        "from sklearn.metrics import r2_score\n",
        "from sklearn.metrics import mean_squared_error\n",
        "import seaborn as sns\n",
        "import numpy as np\n",
        "import pandas as pd\n",
        "import matplotlib.pyplot as plt\n",
        "from sklearn.svm import SVR\n",
        "from sklearn.model_selection import cross_val_score\n",
        "from sklearn.datasets import make_regression\n",
        "from sklearn.preprocessing import scale\n",
        "from sklearn.model_selection import train_test_split\n",
        "\n",
        "#폰트\n",
        "plt.rc('font', family='NanumBarunGothic') "
      ],
      "metadata": {
        "id": "HgyQdwrpbEfL"
      },
      "execution_count": null,
      "outputs": []
    },
    {
      "cell_type": "code",
      "execution_count": null,
      "metadata": {
        "id": "bKKY1BEsnRfy"
      },
      "outputs": [],
      "source": [
        "from google.colab import files\n",
        "uploaded = files.upload()"
      ]
    },
    {
      "cell_type": "code",
      "source": [
        "import io\n",
        "df = pd.read_csv(io.StringIO(uploaded['Game_data_EDA.csv'].decode('utf-8')))"
      ],
      "metadata": {
        "id": "ChvJ9rqRde7h"
      },
      "execution_count": null,
      "outputs": []
    },
    {
      "cell_type": "code",
      "source": [
        "df.head(10000)"
      ],
      "metadata": {
        "id": "9K4K0T4GeGZU"
      },
      "execution_count": null,
      "outputs": []
    },
    {
      "cell_type": "code",
      "source": [
        "print(df.shape)"
      ],
      "metadata": {
        "id": "mEXS84GWjntz"
      },
      "execution_count": null,
      "outputs": []
    },
    {
      "cell_type": "markdown",
      "source": [
        "### **EDA**"
      ],
      "metadata": {
        "id": "1KDIWzaX0ySo"
      }
    },
    {
      "cell_type": "code",
      "source": [
        "## Year 기준으로 재 정렬하는 코드 ascending = True 오름차순 , False 내림차순\n",
        "df = df_sorted_by_values = df.sort_values(by='Year', ascending=False)"
      ],
      "metadata": {
        "id": "n-WWgoxckfZ9"
      },
      "execution_count": null,
      "outputs": []
    },
    {
      "cell_type": "code",
      "source": [
        "#정렬 결과 출력\n",
        "df.head(20000)"
      ],
      "metadata": {
        "id": "rVmTpIA1kwtj"
      },
      "execution_count": null,
      "outputs": []
    },
    {
      "cell_type": "code",
      "source": [
        "df.isnull().sum()"
      ],
      "metadata": {
        "id": "pcju1XqOlUoF"
      },
      "execution_count": null,
      "outputs": []
    },
    {
      "cell_type": "code",
      "source": [
        "df.dtypes"
      ],
      "metadata": {
        "id": "WLyq6blTBLMY"
      },
      "execution_count": null,
      "outputs": []
    },
    {
      "cell_type": "code",
      "source": [
        "##최근데이터들이 결측치가 많아 따로 확인 2019~2021년도\n",
        "#df.loc[(df[\"Year\"] == 2016.0)]\n",
        "df.loc[(df[\"Year\"] == 2017.0)]"
      ],
      "metadata": {
        "id": "NdAlXRYgvFMA"
      },
      "execution_count": null,
      "outputs": []
    },
    {
      "cell_type": "code",
      "source": [
        "#Unnamed 부분은 대부분 결측치이며\n",
        "# Critic_Score , Critic_Count, User_Count 부분도 결측치가 많다"
      ],
      "metadata": {
        "id": "t5lJVeV9tGEv"
      },
      "execution_count": null,
      "outputs": []
    },
    {
      "cell_type": "code",
      "source": [
        "##unnamed 등 3분의1이 결측치인것들\n",
        "##User_Score 같은 부분은 결측치가 많아도 중요한 데이터이기에 제거 일단 보류\n",
        "##의미없는 데이터먼저 제거\n",
        "##null 값을 dropna 하려 했으나 데이터를 조금더 분류한뒤에 제거하기로함(데이터가 한번 다 날라갔다)\n",
        "df.drop(['Unnamed: 0'], axis=1, inplace=True)\n",
        "df.drop(['Unnamed: 17'], axis=1, inplace=True)\n",
        "df.drop(['Null'], axis=1, inplace=True)\n",
        "df.drop(['Rating'], axis=1, inplace=True)\n",
        "df.drop(['Rank'], axis=1, inplace=True)"
      ],
      "metadata": {
        "id": "S7PV68JPtcg-"
      },
      "execution_count": null,
      "outputs": []
    },
    {
      "cell_type": "code",
      "source": [
        "df.head()"
      ],
      "metadata": {
        "id": "c_OFlqgINlZ9"
      },
      "execution_count": null,
      "outputs": []
    },
    {
      "cell_type": "markdown",
      "source": [
        "매출부분"
      ],
      "metadata": {
        "id": "UxJyL5dMEi8f"
      }
    },
    {
      "cell_type": "code",
      "source": [
        "## 기본적인 부분만 가져오기 선호도, 평가 제외\n",
        "df_sales = df[['Name',\t'Platform',\t'Year',\t'Genre',\t'NA_Sales','EU_Sales','JP_Sales','Other_Sales','Global_Sales']]"
      ],
      "metadata": {
        "id": "G6Udq577Dbk-"
      },
      "execution_count": null,
      "outputs": []
    },
    {
      "cell_type": "code",
      "source": [
        "df_sales.shape"
      ],
      "metadata": {
        "id": "KzFlIZLSEgFp"
      },
      "execution_count": null,
      "outputs": []
    },
    {
      "cell_type": "code",
      "source": [
        "#null 제거하니 34502x9로 5000개 가량 데이터 손실\n",
        "df_sales = df_sales.dropna()"
      ],
      "metadata": {
        "id": "tspbwOQjFYbf"
      },
      "execution_count": null,
      "outputs": []
    },
    {
      "cell_type": "code",
      "source": [
        "#2020년도 데이터는 1개 밖에 없으므로 제거\n",
        "df_sales = df_sales.drop([15554], axis=0)\n",
        "df_sales.shape"
      ],
      "metadata": {
        "id": "GGPK7fCCa6Zt"
      },
      "execution_count": null,
      "outputs": []
    },
    {
      "cell_type": "code",
      "source": [
        "#int로 타입변환전 단위변환 현재 million 단위 1000000\n",
        "df_sales['NA_Sales'] = (df_sales['NA_Sales'].replace('.',''))*10000\n",
        "df_sales['EU_Sales'] = (df_sales['EU_Sales'].replace('.',''))*10000\n",
        "df_sales['JP_Sales'] = (df_sales['JP_Sales'].replace('.',''))*10000\n",
        "df_sales['Other_Sales'] = (df_sales['Other_Sales'].replace('.',''))*10000\n",
        "df_sales['Global_Sales'] = (df_sales['Global_Sales'].replace('.',''))*10000\n",
        "df_sales.head()"
      ],
      "metadata": {
        "id": "8K2pIAmwZPgW"
      },
      "execution_count": null,
      "outputs": []
    },
    {
      "cell_type": "code",
      "source": [
        "##int 로 변환\n",
        "df_sales['Year'] = df_sales['Year'].astype(int)\n",
        "df_sales['NA_Sales'] = df_sales['NA_Sales'].astype(int)\n",
        "df_sales['EU_Sales'] = df_sales['EU_Sales'].astype(int)\n",
        "df_sales['JP_Sales'] = df_sales['JP_Sales'].astype(int)\n",
        "df_sales['Other_Sales'] = df_sales['Other_Sales'].astype(int)\n",
        "df_sales['Global_Sales'] = df_sales['Global_Sales'].astype(int)"
      ],
      "metadata": {
        "id": "VdUNTPMeXPJO"
      },
      "execution_count": null,
      "outputs": []
    },
    {
      "cell_type": "code",
      "source": [
        "df_sales"
      ],
      "metadata": {
        "id": "HZZw86kbdkZ6"
      },
      "execution_count": null,
      "outputs": []
    },
    {
      "cell_type": "markdown",
      "source": [
        "# 판매량에 따른 분석"
      ],
      "metadata": {
        "id": "ZExfwLQwjsrw"
      }
    },
    {
      "cell_type": "code",
      "source": [
        "## 장르와 판매량만 묶기, 장르끼리 데이터 합쳐주고 인덱스 다시부여\n",
        "df_genre_year = df_sales[['Genre','NA_Sales','EU_Sales','JP_Sales','Other_Sales','Global_Sales']]\n",
        "df_genre_year = df.groupby(['Year', 'Genre'])['Global_Sales'].sum().unstack()\n",
        "df_genre_year = df_genre_year.reset_index()\n",
        "df_genre_year.head()"
      ],
      "metadata": {
        "id": "v3nemzVWj1dT"
      },
      "execution_count": null,
      "outputs": []
    },
    {
      "cell_type": "code",
      "source": [
        "##연도에 따른 장르별 판매량\n",
        "sns.set_palette('rainbow')\n",
        "plt.figure(figsize=(15, 8))\n",
        "plt.title('Year sales data with Genre', fontsize=20)\n",
        "genre = df_genre_year.columns\n",
        "for i in range(1, len(genre)):\n",
        "    sns.lineplot(data=df_genre_year, x='Year', y=genre[i], label=genre[i])"
      ],
      "metadata": {
        "id": "qxhZ3vTBN5y8"
      },
      "execution_count": null,
      "outputs": []
    },
    {
      "cell_type": "code",
      "source": [
        "# 연도에 따른 장르별 판매량 (스캐터플럿)\n",
        "plt.figure(figsize=(12, 10))\n",
        "sns.scatterplot(data=df, x=\"Year\", y=\"Global_Sales\", \n",
        "                hue=\"Genre\", size=\"Global_Sales\", sizes=(30, 300))"
      ],
      "metadata": {
        "id": "fF8tZtnCOloR"
      },
      "execution_count": null,
      "outputs": []
    },
    {
      "cell_type": "markdown",
      "source": [
        "2005 ~ 2010년 쯤 압도적으로 높은 스포츠 게임이 있다\n",
        "2015~ 2020은 슈팅 게임이  높다."
      ],
      "metadata": {
        "id": "Px5tW4uX_vwl"
      }
    },
    {
      "cell_type": "code",
      "source": [
        "## 연도에 따른 각 지역별 판매량 전처리(라인 그래프)\n",
        "df_year_region = df.groupby(['Year'])['NA_Sales', 'EU_Sales', 'JP_Sales', 'Other_Sales', 'Global_Sales'].sum().stack()\n",
        "df_year_region = df_year_region.reset_index()\n",
        "df_year_region.rename(columns = {'level_1' : 'Region'}, inplace = True)\n",
        "df_year_region.rename(columns = {0 : 'Sales'}, inplace = True)\n",
        "df_year_region.head()"
      ],
      "metadata": {
        "id": "Mfhkq6p6PEzz"
      },
      "execution_count": null,
      "outputs": []
    },
    {
      "cell_type": "code",
      "source": [
        "# 연도에 따른 지역별 판매량 그래프 그리기\n",
        "plt.figure(figsize=(15, 5))\n",
        "sns.lineplot(data=df_year_region, x=\"Year\", y=\"Sales\", hue=\"Region\", linewidth=3)\n",
        "plt.legend(bbox_to_anchor=(1.02, 1), loc=2, borderaxespad=0.)\n",
        "plt.title('Region Sales by year', fontsize=20)"
      ],
      "metadata": {
        "id": "xitR-RZ7PbbK"
      },
      "execution_count": null,
      "outputs": []
    },
    {
      "cell_type": "markdown",
      "source": [
        "2000년 ~ 2010년 북미 판매량이 아주 높은것을 알 수 있다 그 다음으로는 유럽 판매량."
      ],
      "metadata": {
        "id": "BqBIGwwj_2Kz"
      }
    },
    {
      "cell_type": "code",
      "source": [
        "####더 추가하기 평균과 표준편차.넣기"
      ],
      "metadata": {
        "id": "UBNWpXDhrR05"
      },
      "execution_count": null,
      "outputs": []
    },
    {
      "cell_type": "markdown",
      "source": [
        "# 머신러닝 Part"
      ],
      "metadata": {
        "id": "Yc9MXAtQrWLp"
      }
    },
    {
      "cell_type": "markdown",
      "source": [
        "# Linear regression\n",
        "판매량 가장 높은 북미쪽과 가장적은 일본쪽을 분석"
      ],
      "metadata": {
        "id": "GQ-4reQ97Za6"
      }
    },
    {
      "cell_type": "code",
      "source": [
        "s = df_sales[(df_sales.NA_Sales.notnull() & df_sales.JP_Sales.notnull())]\n",
        "s = df_sales[((df_sales.NA_Sales > 0) & (df_sales.JP_Sales > 0))]\n",
        "s = s.sample(100, random_state=0)\n",
        "s = s.loc[s.NA_Sales.rank().sort_values().index]\n",
        "sns.jointplot(s.NA_Sales.rank(), s.JP_Sales)"
      ],
      "metadata": {
        "id": "jYGe49Sw8B7e"
      },
      "execution_count": null,
      "outputs": []
    },
    {
      "cell_type": "markdown",
      "source": [
        "계속해서  회귀적용"
      ],
      "metadata": {
        "id": "1d55iBNgArca"
      }
    },
    {
      "cell_type": "code",
      "source": [
        "NA_sales_ranks = s.NA_Sales.rank().values[:, np.newaxis]\n",
        "JP_sales = s.JP_Sales.values[:, np.newaxis]"
      ],
      "metadata": {
        "id": "0YPKWw8QAqtT"
      },
      "execution_count": null,
      "outputs": []
    },
    {
      "cell_type": "code",
      "source": [
        "from sklearn.preprocessing import PolynomialFeatures\n",
        "from sklearn.linear_model import LinearRegression\n",
        "plt.style.use('fivethirtyeight')\n",
        "\n",
        "def predict(degree):\n",
        "    poly = PolynomialFeatures(degree=degree)\n",
        "    NA_sales_ranks_poly = poly.fit_transform(NA_sales_ranks)\n",
        "    clf = LinearRegression()\n",
        "    clf.fit(NA_sales_ranks_poly, JP_sales)\n",
        "    JP_sale_predictions = clf.predict(NA_sales_ranks_poly)\n",
        "    result = np.dstack((JP_sales.flatten(), JP_sale_predictions.flatten())).reshape((100, 2))\n",
        "    return result"
      ],
      "metadata": {
        "id": "1MAjTg1fA_M8"
      },
      "execution_count": null,
      "outputs": []
    },
    {
      "cell_type": "code",
      "source": [
        "result = predict(1)\n",
        "plt.plot(range(len(result[:, 1])), result[:, 1])\n",
        "plt.scatter(range(len(result[:, 0])), result[:, 0], color='black')\n",
        "plt.gca().set_title(\"Regression with Degree 1\")"
      ],
      "metadata": {
        "id": "QtgCv6fsBEo7"
      },
      "execution_count": null,
      "outputs": []
    },
    {
      "cell_type": "code",
      "source": [
        "result = predict(3)\n",
        "plt.plot(range(len(result[:, 1])), result[:, 1])\n",
        "plt.scatter(range(len(result[:, 0])), result[:, 0], color='black')\n",
        "plt.gca().set_title(\"Regression with Degree 3\")"
      ],
      "metadata": {
        "id": "-HHCHtO9BHwy"
      },
      "execution_count": null,
      "outputs": []
    },
    {
      "cell_type": "code",
      "source": [
        "result = predict(10)\n",
        "plt.plot(range(len(result[:, 1])), result[:, 1])\n",
        "plt.scatter(range(len(result[:, 0])), result[:, 0], color='black')\n",
        "plt.gca().set_title(\"Regression with Degree 10\")"
      ],
      "metadata": {
        "id": "sJgi_fkXBMkC"
      },
      "execution_count": null,
      "outputs": []
    },
    {
      "cell_type": "markdown",
      "source": [
        "\n",
        "이 플롯에서 degree 3인 회귀가 가장 좋은 방법이라는 것이 나온다 한편, degree10은 과소적합을 보인다"
      ],
      "metadata": {
        "id": "N8opMDjMBQFO"
      }
    },
    {
      "cell_type": "code",
      "source": [
        "def get_model(degree):\n",
        "    poly = PolynomialFeatures(degree=degree)\n",
        "    NA_sales_ranks_poly = poly.fit_transform(NA_sales_ranks)\n",
        "    clf = LinearRegression()\n",
        "    clf.fit(NA_sales_ranks_poly, JP_sales)\n",
        "    return clf\n",
        "\n",
        "m1_coef = get_model(1).coef_\n",
        "m3_coef = get_model(3).coef_\n",
        "m10_coef = get_model(10).coef_"
      ],
      "metadata": {
        "id": "2uZZ02t_Bvre"
      },
      "execution_count": null,
      "outputs": []
    },
    {
      "cell_type": "code",
      "source": [
        "m1_coef"
      ],
      "metadata": {
        "id": "GFXWCgAvBzIu"
      },
      "execution_count": null,
      "outputs": []
    },
    {
      "cell_type": "code",
      "source": [
        "m3_coef"
      ],
      "metadata": {
        "id": "kyZ2ibJuB1fo"
      },
      "execution_count": null,
      "outputs": []
    },
    {
      "cell_type": "code",
      "source": [
        "m10_coef"
      ],
      "metadata": {
        "id": "EJO0mECtB6V-"
      },
      "execution_count": null,
      "outputs": []
    },
    {
      "cell_type": "markdown",
      "source": [
        "# Ridge regression"
      ],
      "metadata": {
        "id": "nvsxNmoPO6Q9"
      }
    },
    {
      "cell_type": "code",
      "source": [
        "from sklearn.linear_model import Ridge\n",
        "\n",
        "def get_ridge_model(degree, alpha):\n",
        "    poly = PolynomialFeatures(degree=degree)\n",
        "    NA_sales_ranks_poly = poly.fit_transform(NA_sales_ranks)\n",
        "    clf = Ridge(alpha=alpha)\n",
        "    clf.fit(NA_sales_ranks_poly, JP_sales)\n",
        "    return clf\n",
        "\n",
        "def ridge_predict(degree, alpha):\n",
        "    poly = PolynomialFeatures(degree=degree)\n",
        "    NA_sales_ranks_poly = poly.fit_transform(NA_sales_ranks)\n",
        "    clf = get_ridge_model(degree, alpha)\n",
        "    JP_sale_predictions = clf.predict(NA_sales_ranks_poly)\n",
        "    result = np.dstack((JP_sales.flatten(), JP_sale_predictions.flatten())).reshape((100, 2))\n",
        "    return result"
      ],
      "metadata": {
        "id": "vYUYJGPmB8JX"
      },
      "execution_count": null,
      "outputs": []
    },
    {
      "cell_type": "code",
      "source": [
        "result = ridge_predict(10, 10)\n",
        "plt.plot(range(len(result[:, 1])), result[:, 1])\n",
        "plt.scatter(range(len(result[:, 0])), result[:, 0], color='black')\n",
        "plt.gca().set_title(\"degree=10, alpha=$10^1$\")"
      ],
      "metadata": {
        "id": "bKcL_2lrPALr"
      },
      "execution_count": null,
      "outputs": []
    },
    {
      "cell_type": "code",
      "source": [
        "result = ridge_predict(10, 10**25)\n",
        "plt.plot(range(len(result[:, 1])), result[:, 1])\n",
        "plt.scatter(range(len(result[:, 0])), result[:, 0], color='black')\n",
        "plt.gca().set_title(\"degree=10, alpha=$10^{25}$\")"
      ],
      "metadata": {
        "id": "mP2XNhBLPCBc"
      },
      "execution_count": null,
      "outputs": []
    },
    {
      "cell_type": "code",
      "source": [
        "result = ridge_predict(10, 10**40)\n",
        "plt.plot(range(len(result[:, 1])), result[:, 1])\n",
        "plt.scatter(range(len(result[:, 0])), result[:, 0], color='black')\n",
        "plt.gca().set_title(\"degree=10, alpha=$10^{40}$\")"
      ],
      "metadata": {
        "id": "TMVt6Bu6PEh-"
      },
      "execution_count": null,
      "outputs": []
    },
    {
      "cell_type": "markdown",
      "source": [
        "전반적으로 Ridge(degree=10, alpha=10**40)는 LinearRegression(degree=3)과 상당히 비슷하다"
      ],
      "metadata": {
        "id": "xerAcrNAPI0b"
      }
    },
    {
      "cell_type": "code",
      "source": [
        "get_ridge_model(10, 10**40).coef_"
      ],
      "metadata": {
        "id": "VTShs3eHPIVb"
      },
      "execution_count": null,
      "outputs": []
    },
    {
      "cell_type": "markdown",
      "source": [
        "StackOverflow 를 찾아보니 ridge regression이 구현 측면에서는 알고리즘의 계산적으로 효과적이다."
      ],
      "metadata": {
        "id": "unCqH0yaP31Q"
      }
    },
    {
      "cell_type": "markdown",
      "source": [
        "# SVM 모델 (SVR)"
      ],
      "metadata": {
        "id": "D2BzLTe68Rce"
      }
    },
    {
      "cell_type": "markdown",
      "source": [
        "위의 결과에서 ridge 모델이 구현 측면에서는 효과적이여서 다른 모델에서 \n",
        "실제값과 추정값의 차이를 작도록 고려하는 선을 찾기 위해 SVM의 모델중 SVR 을 사용해봤다.\n",
        "릿지 회귀모형은 SVR 의 목적과 유사하다. 다만 관점의 차이가 있다면 penalty를 적용시키는 식이 릿지 회귀모형에서의 loss function과 대응된다.\n",
        "SVM모델은 회귀모델인지 분류모델인지에 따라서 달라진다.\n",
        "SVC는 분류형 모델이고 SVR은 회귀형(예측)모델 이다."
      ],
      "metadata": {
        "id": "6uvt7EfOYPnA"
      }
    },
    {
      "cell_type": "code",
      "source": [
        "from sklearn.preprocessing import OrdinalEncoder\n",
        "\n",
        "#'NA_Sales','EU_Sales','JP_Sales','Other_Sales'제외\n",
        "df1 = df_sales[['Name','Platform','Year','Genre','Global_Sales']]\n",
        "\n",
        "## ordinalencoding\n",
        "enc = OrdinalEncoder()\n",
        "enc_df = enc.fit_transform(df1[['Name','Platform','Year','Genre']])"
      ],
      "metadata": {
        "id": "X2k-RlJtazS8"
      },
      "execution_count": null,
      "outputs": []
    },
    {
      "cell_type": "code",
      "source": [
        "#인코딩확인 넘파이배열 데이터프레임으로 변경, 타입변경\n",
        "enc_df= pd.DataFrame(enc_df)\n",
        "enc_df.astype(int)\n",
        "enc_df.head()"
      ],
      "metadata": {
        "id": "_0eHdNjEezln"
      },
      "execution_count": null,
      "outputs": []
    },
    {
      "cell_type": "code",
      "source": [
        "#Global_Sales 가 아닌값만 x로 지정\n",
        "x = enc_df\n",
        "y = df1['Global_Sales']"
      ],
      "metadata": {
        "id": "jQWDnrS58DPz"
      },
      "execution_count": null,
      "outputs": []
    },
    {
      "cell_type": "code",
      "source": [
        "## 데이터분리\n",
        "x_train, x_test, y_train, y_test = train_test_split(x, y, test_size=0.3, random_state=0)"
      ],
      "metadata": {
        "id": "Hab8nIGhZWw_"
      },
      "execution_count": null,
      "outputs": []
    },
    {
      "cell_type": "code",
      "source": [
        "parameters = {'C':[0.001,0.01,0.1,1,10,25,50,100],\n",
        "\t\t\t'gamma':[0.001, 0.01, 0.1, 1, 10, 25, 50, 100]}\t\n",
        "\n",
        "svr_rbf = SVR(kernel='rbf', C=100, gamma=0.1, epsilon=.1)\n",
        "svr_lin = SVR(kernel='linear', C=100, gamma='auto')\n",
        "svr_poly = SVR(kernel='poly', C=100, gamma=0.1, degree=3, epsilon=.1, coef0=1)\n",
        "\n",
        "y_rbf = svr_rbf.fit(x,y).predict(x)\n",
        "y_lin = svr_lin.fit(x,y).predict(x)\n",
        "y_poly = svr_poly.fit(x,y).predict(x)\n"
      ],
      "metadata": {
        "id": "ik1rFwJn-IsV"
      },
      "execution_count": null,
      "outputs": []
    },
    {
      "cell_type": "code",
      "source": [
        "#모델\n",
        "svr = SVR(kernel='rbf', gamma='auto')\n",
        "svr.fit(x_train,y_train)"
      ],
      "metadata": {
        "id": "bHMmrPRy_AF_"
      },
      "execution_count": null,
      "outputs": []
    },
    {
      "cell_type": "code",
      "source": [
        "score = svr.score(x_train, y_train)\n",
        "print(\"R-squared:\", score)\n",
        "\n",
        "cv_score = cross_val_score(svr, x, y, cv=5)\n",
        "print(\"CV mean score: \", cv_score.mean())\n",
        "\n",
        "svr_y_pred = svr.predict(x_test)\n",
        "\n",
        "mse = mean_squared_error(y_test,svr_y_pred)\n",
        "print(\"MSE: \", mse)\n",
        "\n",
        "x_ax = range(len(y_test))\n",
        "plt.plot(x_ax, y_test, label='origianl')\n",
        "plt.plot(x_ax, svr_y_pred, label='predicted')\n",
        "plt.title(\"game\")\n",
        "plt.legend()\n",
        "plt.show()"
      ],
      "metadata": {
        "id": "eWW6dTxH_QGo"
      },
      "execution_count": null,
      "outputs": []
    },
    {
      "cell_type": "markdown",
      "source": [
        "# Randomforest regressor"
      ],
      "metadata": {
        "id": "9yuouYqM050a"
      }
    },
    {
      "cell_type": "code",
      "source": [
        "df1 = pd.DataFrame(df1)\n",
        "df1.head()"
      ],
      "metadata": {
        "id": "bJADULLztXQU"
      },
      "execution_count": null,
      "outputs": []
    },
    {
      "cell_type": "code",
      "source": [
        "## 데이터분리\n",
        "x_train, x_test, y_train, y_test = train_test_split(x, y, test_size=0.3, random_state=0)"
      ],
      "metadata": {
        "id": "So4lvzpZ30JS"
      },
      "execution_count": null,
      "outputs": []
    },
    {
      "cell_type": "code",
      "source": [
        "#랜덤 포레스트 모델 학습\n",
        "forest = RandomForestRegressor(n_estimators=1000, criterion='mae') #criterion='squared_error'\n",
        "forest.fit(x_train,y_train)"
      ],
      "metadata": {
        "id": "wAxE-ixo4VDe"
      },
      "execution_count": null,
      "outputs": []
    },
    {
      "cell_type": "code",
      "source": [
        "y_train_pred = forest.predict(x_train)\n",
        "y_test_pred = forest.predict(x_test)"
      ],
      "metadata": {
        "id": "KyPANS4U4YNi"
      },
      "execution_count": null,
      "outputs": []
    },
    {
      "cell_type": "code",
      "source": [
        "y.head()"
      ],
      "metadata": {
        "id": "-D_MF-3Iebjy"
      },
      "execution_count": null,
      "outputs": []
    },
    {
      "cell_type": "code",
      "source": [
        "#학습 모델 평가\n",
        "#print('MSE train: %.3f, test: %.3f' % (\n",
        "#        mean_squared_error(y_train, y_test_pred),\n",
        "#       mean_squared_error(y_test, y_test_pred)))\n",
        "print('R^2 train: %.3f, test: %.3f' %\n",
        "      ( r2_score(y_train, y_train_pred),\n",
        "      r2_score(y_test, y_test_pred)))"
      ],
      "metadata": {
        "id": "bUORbjXz4vQu"
      },
      "execution_count": null,
      "outputs": []
    }
  ]
}